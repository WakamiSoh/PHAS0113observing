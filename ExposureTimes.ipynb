{
 "cells": [
  {
   "cell_type": "markdown",
   "metadata": {},
   "source": [
    "## PHAS0113 Group E: Exposure time calculations\n",
    "Author: Zuyi Wakami Soh 22/01/2023"
   ]
  },
  {
   "cell_type": "code",
   "execution_count": 15,
   "metadata": {},
   "outputs": [],
   "source": [
    "import numpy as np"
   ]
  },
  {
   "cell_type": "code",
   "execution_count": 37,
   "metadata": {},
   "outputs": [],
   "source": [
    "# The code for all the calculations have been adapted from ExposureTimes.py (Powell, 2022)\n",
    "mag, zdegrees= np.loadtxt(\"Target_Data.txt\", unpack= True)\n",
    "aperture, T, R, eta, bandwidth, msky, Ssky, Ndark, npix= np.loadtxt(\"Telescope_Data.txt\", unpack= True)\n",
    "\n",
    "z = zdegrees/360*np.pi*2 # zenith distance in radians"
   ]
  },
  {
   "cell_type": "code",
   "execution_count": 38,
   "metadata": {},
   "outputs": [],
   "source": [
    "# Equations for calculations obtained from PHAS0043 Expt 1: Observing Programme (Boyle & Fossey, 2022)\n",
    "def atmo_extinction(k, z):\n",
    "    \"\"\"\n",
    "    Calculates the atmospheric extinction, a   \n",
    "    - a=10^{-0.4*k*X}\n",
    "    \n",
    "    Arguments:\n",
    "    - k: wavelength-dependent extinction coefficient\n",
    "    - z: zenith distance in radians\n",
    "    \n",
    "    Returns:\n",
    "    - Atmospheric extinction, a\n",
    "    \"\"\"\n",
    "    X = 1/np.cos(z) \n",
    "    return 10 ** (-0.4 * k * X) \n",
    "\n",
    "def sourceflux(mag):\n",
    "    \"\"\"\n",
    "    Calculates the source flux, F_S (photons/sec/cm^2/Angstrom) at the top of the Earth's atmosphere\n",
    "    - F_S=F_{Vega} * 10^{-0.4*(m_S-m_Vega)}\n",
    "    \n",
    "    Arguments:\n",
    "    - mag: magnitude of source\n",
    "    \n",
    "    Returns:\n",
    "    - Source flux\n",
    "    \"\"\"\n",
    "    Fvega = 1000\n",
    "    mvega = 0\n",
    "    return Fvega * 10 ** (-0.4 * (mag - mvega))\n",
    "\n",
    "def source_countrate(mag, k, z, aperture, T, R, eta, bandwidth):\n",
    "    \"\"\"\n",
    "    Calculate detected photo-electron flux from the source, \\dot{N}_S.\n",
    "    - \\dot{N}_S =F_S * a * A * T * R * \\eta * \\delta \\lambda (electrons/s)\n",
    "    \n",
    "    Arguments:\n",
    "    - mag: magnitude of source\n",
    "    - k: wavelength-dependent extinction coefficient\n",
    "    - z: zenith distance in radians\n",
    "    - aperture: aperture of telescope in cm\n",
    "    - T: transmission efficiency of telescope optics\n",
    "    - R: transmission efficiency of filter\n",
    "    - eta: CCD quantum efficiency\n",
    "    - bandwidth: effective bandwith of filter, \\delta \\lambda\n",
    "    \n",
    "    Returns:\n",
    "    - \\dot{N}_S: detected photo-electron flux from the source\n",
    "    \"\"\"\n",
    "    F = sourceflux(mag)\n",
    "    a = atmo_extinction(k, z)\n",
    "    A = np.pi * (aperture/2) ** 2\n",
    "    return F * a * A * T * R * eta * bandwidth\n",
    "\n",
    "def sky_countrate(msky, Ssky, aperture, T, R, eta, bandwidth):\n",
    "    \"\"\"\n",
    "    Calculate the photo-electron flux due to the sky, \\dot{N}_{sky}\n",
    "    - \\dot{N}_{sky} =F_{sky} * A * T * R * eta * \\delta \\lambda * s_{sky}\n",
    "    \n",
    "    Arguments:\n",
    "    - msky: brightness of the night sky, m_{sky} (magnitudes per square arcsec)\n",
    "    - Ssky: number of square arcseconds over which the source is recorded on the detector, s_{sky}\n",
    "    - aperture: aperture of telescope in cm\n",
    "    - T: transmission efficiency of telescope optics\n",
    "    - R: transmission efficiency of filter\n",
    "    - eta: CCD quantum efficiency\n",
    "    - bandwidth: effective bandwith of filter, \\delta \\lambda\n",
    "    \n",
    "    Returns:\n",
    "    - \\dot{N}_{sky}: photo-electron flux due to the sky\n",
    "    \"\"\"\n",
    "    F = sourceflux(msky)\n",
    "    A = np.pi * (aperture/2) ** 2\n",
    "    return F * A * T * R * eta * bandwidth * Ssky\n",
    "\n",
    "def background_countrate(sky_countrate, dark_countrate, npix):\n",
    "    \"\"\"\n",
    "    Calculates the photo-electron flux due to the background, \\dot{N}_B\n",
    "    \n",
    "    Arguments:\n",
    "    - sky_countrate: photo-electron flux due to the sky\n",
    "    - dark_countrate: dark current per pixel\n",
    "    - npix: number of pixels over which the source signal is integrated\n",
    "    \n",
    "    Returns:\n",
    "    - \\dot{N}_B: photo-electron flux due to the background\n",
    "    \"\"\"\n",
    "    return sky_countrate + dark_countrate * npix\n",
    "    \n",
    "\n",
    "def expotime(SNR, source_countrate, sky_countrate):\n",
    "    \"\"\"\n",
    "    Calculates the exposure time for a given SNR.\n",
    "    \n",
    "    Arguments:\n",
    "    - SNR: signal-to-noise ratio\n",
    "    - source_countrate: detected photo-electron flux from the source, \\dot{N}_S\n",
    "    - sky_countrate: photo-electron flux due to the sky\n",
    "    \n",
    "    Returns:\n",
    "    - t: exposure time\n",
    "    \"\"\"\n",
    "    return (SNR ** 2)*(source_countrate + 2 * sky_countrate)/(source_countrate**2)"
   ]
  },
  {
   "cell_type": "code",
   "execution_count": 39,
   "metadata": {},
   "outputs": [
    {
     "name": "stdout",
     "output_type": "stream",
     "text": [
      "SNR for exposure time of 30s: [ 2538.2201536   1561.57835831  7757.33721221 12706.82159532\n",
      "  4709.40023837  9208.6449418   9592.51204104  8469.85277531\n",
      " 18329.14878083  6065.54821841]\n",
      "SNR for exposure time of 60s: [ 3589.58536551  2208.40529302 10970.53149341 17970.15943475\n",
      "  6660.09768774 13022.99056777 13565.86062567 11978.18066614\n",
      " 25921.3307926   8577.9805537 ]\n"
     ]
    }
   ],
   "source": [
    "k= 0.2\n",
    "Ns = source_countrate(mag, k, z, aperture, T, R, eta, bandwidth)\n",
    "Nb = background_countrate(sky_countrate(msky, Ssky, aperture, T, R, eta, bandwidth), Ndark, npix)\n",
    "\n",
    "SNR30 = Ns*30/np.sqrt(Ns*30+2*Nb*30)\n",
    "SNR60 = Ns*60/np.sqrt(Ns*60+2*Nb*60)\n",
    "\n",
    "print(\"SNR for exposure time of 30s:\",SNR30)\n",
    "print(\"SNR for exposure time of 60s:\",SNR60)"
   ]
  },
  {
   "cell_type": "code",
   "execution_count": 40,
   "metadata": {},
   "outputs": [
    {
     "name": "stdout",
     "output_type": "stream",
     "text": [
      "Minimum exposure time for HZ Her:  4.656532929606273 s\n",
      "Minimum exposure time for XY CVn:  12.302509006380951 s\n",
      "Minimum exposure time for RR Gem:  0.498535298109409 s\n",
      "Minimum exposure time for RR Boo:  0.18580071881798849 s\n",
      "Minimum exposure time for NN Boo:  1.3526643738156314 s\n",
      "Minimum exposure time for HV 7558:  0.353777165797751 s\n",
      "Minimum exposure time for TV Lyn:  0.32602923780266474 s\n",
      "Minimum exposure time for HV 7457:  0.41818604089444444 s\n",
      "Minimum exposure time for HV 7560:  0.08929695745575068 s\n",
      "Minimum exposure time for HV 7596:  0.815419580132987 s\n"
     ]
    }
   ],
   "source": [
    "tHZHer= expotime(1000, Ns[0], Nb[0])\n",
    "print(\"Minimum exposure time for HZ Her: \", tHZHer, \"s\")\n",
    "tXYCVn= expotime(1000, Ns[1], Nb[1])\n",
    "print(\"Minimum exposure time for XY CVn: \", tXYCVn, \"s\")\n",
    "tRRGem= expotime(1000, Ns[2], Nb[2])\n",
    "print(\"Minimum exposure time for RR Gem: \", tRRGem, \"s\")\n",
    "tRRBoo= expotime(1000, Ns[3], Nb[3])\n",
    "print(\"Minimum exposure time for RR Boo: \", tRRBoo, \"s\")\n",
    "tNNBoo= expotime(1000, Ns[4], Nb[4])\n",
    "print(\"Minimum exposure time for NN Boo: \", tNNBoo, \"s\")\n",
    "tHV7558= expotime(1000, Ns[5], Nb[5])\n",
    "print(\"Minimum exposure time for HV 7558: \", tHV7558, \"s\")\n",
    "tTVLyn= expotime(1000, Ns[6], Nb[6])\n",
    "print(\"Minimum exposure time for TV Lyn: \", tTVLyn, \"s\")\n",
    "tHV7457= expotime(1000, Ns[7], Nb[7])\n",
    "print(\"Minimum exposure time for HV 7457: \", tHV7457, \"s\")\n",
    "tHV7560= expotime(1000, Ns[8], Nb[8])\n",
    "print(\"Minimum exposure time for HV 7560: \", tHV7560, \"s\")\n",
    "tHV7596= expotime(1000, Ns[9], Nb[9])\n",
    "print(\"Minimum exposure time for HV 7596: \", tHV7596, \"s\")"
   ]
  },
  {
   "cell_type": "markdown",
   "metadata": {},
   "source": [
    "### References\n",
    "\n",
    "Powell, S. (2022) Samjpowell13/ExpoPy: Python code written for Task 1 of phas0043 at the UCL Observatory (group 2), GitHub. Available at: https://github.com/SamjPowell13/ExpoPy (Accessed: January 24, 2023).\n",
    "\n",
    "Boyle, S. and Fossey, S. (2022) Expt 1: Observing Programmes (Group Exercise) for the UCLO Celestron and Telescope Live Robotic Telescopes. issue brief. London, London: UCL, pp. 12–14. "
   ]
  }
 ],
 "metadata": {
  "kernelspec": {
   "display_name": "Python 3",
   "language": "python",
   "name": "python3"
  },
  "language_info": {
   "codemirror_mode": {
    "name": "ipython",
    "version": 3
   },
   "file_extension": ".py",
   "mimetype": "text/x-python",
   "name": "python",
   "nbconvert_exporter": "python",
   "pygments_lexer": "ipython3",
   "version": "3.8.3"
  }
 },
 "nbformat": 4,
 "nbformat_minor": 4
}
